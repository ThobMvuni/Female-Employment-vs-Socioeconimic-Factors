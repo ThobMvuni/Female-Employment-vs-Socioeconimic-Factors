{
 "cells": [
  {
   "cell_type": "markdown",
   "metadata": {},
   "source": [
    "# Women in the Workplace: Data Analysis for Bangladesh (1995-2019)\n",
    "\n",
    "## Table of Contents\r\n",
    "1. **Project Overview**\r\n",
    "   - 1.1 **Introduction**\r\n",
    "     - 1.1.1 **Problem Statement**\r\n",
    "     - 1.1.2 **Objectives**\r\n",
    "2. **Importing Packages**\r\n",
    "3. **Loading Data**\r\n",
    "4. **Data Cleaning**\r\n",
    "5. **Exploratory Data Analysis (EDA)**\r\n"
   ]
  },
  {
   "cell_type": "markdown",
   "metadata": {},
   "source": [
    "## 1. Project Overview\r\n",
    "\r\n",
    "### 1.1 Introduction\r\n",
    "#### 1.1.1 Problem Statement:\r\n",
    "This project aims to analyze the trends in female employment and factors affecting it in Bangladesh from 1995 to 2019.\r\n",
    "\r\n",
    "#### 1.1.2 Objectives:\r\n",
    "- Preprocess and clean the provided dataset\r\n",
    "- Visualize trends in female employment\r\n",
    "- Compare female employment to male employment\r\n",
    "- Identify key factors influencing female employmentemployment"
   ]
  },
  {
   "cell_type": "markdown",
   "metadata": {},
   "source": [
    "## 2. Importing Packages"
   ]
  },
  {
   "cell_type": "code",
<<<<<<< HEAD
   "execution_count": 77,
=======
   "execution_count": 4,
   "metadata": {},
   "outputs": [
    {
     "name": "stdout",
     "output_type": "stream",
     "text": [
      "Requirement already satisfied: seaborn in c:\\users\\lungile\\anaconda4\\lib\\site-packages (0.13.2)\n",
      "Requirement already satisfied: numpy!=1.24.0,>=1.20 in c:\\users\\lungile\\anaconda4\\lib\\site-packages (from seaborn) (1.26.4)\n",
      "Requirement already satisfied: pandas>=1.2 in c:\\users\\lungile\\anaconda4\\lib\\site-packages (from seaborn) (2.2.2)\n",
      "Requirement already satisfied: matplotlib!=3.6.1,>=3.4 in c:\\users\\lungile\\anaconda4\\lib\\site-packages (from seaborn) (3.9.2)\n",
      "Requirement already satisfied: contourpy>=1.0.1 in c:\\users\\lungile\\anaconda4\\lib\\site-packages (from matplotlib!=3.6.1,>=3.4->seaborn) (1.2.0)\n",
      "Requirement already satisfied: cycler>=0.10 in c:\\users\\lungile\\anaconda4\\lib\\site-packages (from matplotlib!=3.6.1,>=3.4->seaborn) (0.11.0)\n",
      "Requirement already satisfied: fonttools>=4.22.0 in c:\\users\\lungile\\anaconda4\\lib\\site-packages (from matplotlib!=3.6.1,>=3.4->seaborn) (4.51.0)\n",
      "Requirement already satisfied: kiwisolver>=1.3.1 in c:\\users\\lungile\\anaconda4\\lib\\site-packages (from matplotlib!=3.6.1,>=3.4->seaborn) (1.4.4)\n",
      "Requirement already satisfied: packaging>=20.0 in c:\\users\\lungile\\anaconda4\\lib\\site-packages (from matplotlib!=3.6.1,>=3.4->seaborn) (23.2)\n",
      "Requirement already satisfied: pillow>=8 in c:\\users\\lungile\\anaconda4\\lib\\site-packages (from matplotlib!=3.6.1,>=3.4->seaborn) (10.3.0)\n",
      "Requirement already satisfied: pyparsing>=2.3.1 in c:\\users\\lungile\\anaconda4\\lib\\site-packages (from matplotlib!=3.6.1,>=3.4->seaborn) (3.0.9)\n",
      "Requirement already satisfied: python-dateutil>=2.7 in c:\\users\\lungile\\anaconda4\\lib\\site-packages (from matplotlib!=3.6.1,>=3.4->seaborn) (2.9.0.post0)\n",
      "Requirement already satisfied: pytz>=2020.1 in c:\\users\\lungile\\anaconda4\\lib\\site-packages (from pandas>=1.2->seaborn) (2024.1)\n",
      "Requirement already satisfied: tzdata>=2022.7 in c:\\users\\lungile\\anaconda4\\lib\\site-packages (from pandas>=1.2->seaborn) (2023.3)\n",
      "Requirement already satisfied: six>=1.5 in c:\\users\\lungile\\anaconda4\\lib\\site-packages (from python-dateutil>=2.7->matplotlib!=3.6.1,>=3.4->seaborn) (1.16.0)\n",
      "Note: you may need to restart the kernel to use updated packages.\n"
     ]
    }
   ],
   "source": [
    "pip install seaborn\n"
   ]
  },
  {
   "cell_type": "code",
   "execution_count": 5,
>>>>>>> 8e1abdffdd70ded78e95f787b15fa330c0ba8125
   "metadata": {},
   "outputs": [
    {
     "name": "stdout",
     "output_type": "stream",
     "text": [
      "Packages imported successfully.\n"
     ]
    }
   ],
   "source": [
    "import pandas as pd\n",
    "import matplotlib.pyplot as plt\n",
    "import seaborn as sns\n",
    "import numpy as np\n",
    "\n",
    "print(\"Packages imported successfully.\")"
   ]
  },
  {
   "cell_type": "markdown",
   "metadata": {},
   "source": [
    "## 3. Loading Data"
   ]
  },
  {
   "cell_type": "code",
<<<<<<< HEAD
   "execution_count": 80,
=======
   "execution_count": 7,
>>>>>>> 8e1abdffdd70ded78e95f787b15fa330c0ba8125
   "metadata": {},
   "outputs": [
    {
     "name": "stdout",
     "output_type": "stream",
     "text": [
      "Data loaded successfully. Here are the first few rows:\n",
      "   Year  PerFemEmploy FertilityRate  Ratio_MaletoFemale  PerFemEmployers  \\\n",
      "0  1995         24.30          3.71               28.33              0.1   \n",
      "1  1996         24.57          3.59               28.72              0.1   \n",
      "2  1997         24.82          3.48               29.18              0.1   \n",
      "3  1998         25.11          3.37               29.67              0.1   \n",
      "4  1999         25.38          3.27               30.17              0.1   \n",
      "\n",
      "   Agriculture  Industry  Services  Wage&Salaried  ContrFamWorkers  \\\n",
      "0        84.79      7.66      7.56          18.03            66.80   \n",
      "1        82.28      7.46     10.27          18.38            66.39   \n",
      "2        81.19      7.57     11.24          18.74            65.95   \n",
      "3        80.28      7.77     11.95          19.11            65.53   \n",
      "4        79.52      8.12     12.36          19.50            65.01   \n",
      "\n",
      "   OwnAccount  Vulnerable  \n",
      "0       15.07       81.87  \n",
      "1       15.14       81.52  \n",
      "2       15.21       81.16  \n",
      "3       15.26       80.79  \n",
      "4       15.39       80.40  \n"
     ]
    }
   ],
   "source": [
    "# Load the CSV file into a pandas DataFrame\n",
    "df = pd.read_csv('MLR2.csv')\n",
    "\n",
    "print(\"Data loaded successfully. Here are the first few rows:\")\n",
    "print(df.head())"
   ]
  },
  {
   "cell_type": "markdown",
   "metadata": {},
   "source": [
    "## 4. Data Cleaning"
   ]
  },
  {
   "cell_type": "code",
<<<<<<< HEAD
   "execution_count": 94,
=======
   "execution_count": 9,
>>>>>>> 8e1abdffdd70ded78e95f787b15fa330c0ba8125
   "metadata": {},
   "outputs": [
    {
     "name": "stdout",
     "output_type": "stream",
     "text": [
      "--- Data Cleaning ---\n",
      "\n",
      "Dataset information:\n",
      "<class 'pandas.core.frame.DataFrame'>\n",
      "RangeIndex: 25 entries, 0 to 24\n",
      "Data columns (total 12 columns):\n",
      " #   Column              Non-Null Count  Dtype  \n",
      "---  ------              --------------  -----  \n",
      " 0   Year                25 non-null     int64  \n",
      " 1   PerFemEmploy        25 non-null     float64\n",
<<<<<<< HEAD
      " 2   FertilityRate       23 non-null     float64\n",
=======
      " 2   FertilityRate       25 non-null     object \n",
>>>>>>> 8e1abdffdd70ded78e95f787b15fa330c0ba8125
      " 3   Ratio_MaletoFemale  25 non-null     float64\n",
      " 4   PerFemEmployers     25 non-null     float64\n",
      " 5   Agriculture         25 non-null     float64\n",
      " 6   Industry            25 non-null     float64\n",
      " 7   Services            25 non-null     float64\n",
      " 8   Wage&Salaried       25 non-null     float64\n",
      " 9   ContrFamWorkers     25 non-null     float64\n",
      " 10  OwnAccount          25 non-null     float64\n",
      " 11  Vulnerable          25 non-null     float64\n",
<<<<<<< HEAD
      "dtypes: float64(11), int64(1)\n",
      "memory usage: 2.5 KB\n",
=======
      "dtypes: float64(10), int64(1), object(1)\n",
      "memory usage: 2.5+ KB\n",
>>>>>>> 8e1abdffdd70ded78e95f787b15fa330c0ba8125
      "None\n",
      "\n",
      "Missing values:\n",
      "Year                  0\n",
      "PerFemEmploy          0\n",
<<<<<<< HEAD
      "FertilityRate         2\n",
=======
      "FertilityRate         0\n",
>>>>>>> 8e1abdffdd70ded78e95f787b15fa330c0ba8125
      "Ratio_MaletoFemale    0\n",
      "PerFemEmployers       0\n",
      "Agriculture           0\n",
      "Industry              0\n",
      "Services              0\n",
      "Wage&Salaried         0\n",
      "ContrFamWorkers       0\n",
      "OwnAccount            0\n",
      "Vulnerable            0\n",
      "dtype: int64\n",
      "\n",
      "After cleaning, here's the updated info:\n",
      "<class 'pandas.core.frame.DataFrame'>\n",
      "RangeIndex: 25 entries, 0 to 24\n",
      "Data columns (total 12 columns):\n",
      " #   Column              Non-Null Count  Dtype  \n",
      "---  ------              --------------  -----  \n",
      " 0   Year                25 non-null     int64  \n",
      " 1   PerFemEmploy        25 non-null     float64\n",
      " 2   FertilityRate       23 non-null     float64\n",
      " 3   Ratio_MaletoFemale  25 non-null     float64\n",
      " 4   PerFemEmployers     25 non-null     float64\n",
      " 5   Agriculture         25 non-null     float64\n",
      " 6   Industry            25 non-null     float64\n",
      " 7   Services            25 non-null     float64\n",
      " 8   Wage&Salaried       25 non-null     float64\n",
      " 9   ContrFamWorkers     25 non-null     float64\n",
      " 10  OwnAccount          25 non-null     float64\n",
      " 11  Vulnerable          25 non-null     float64\n",
      "dtypes: float64(11), int64(1)\n",
      "memory usage: 2.5 KB\n",
      "None\n",
      "\n",
      "Summary statistics:\n",
      "              Year  PerFemEmploy  FertilityRate  Ratio_MaletoFemale  \\\n",
      "count    25.000000     25.000000      23.000000           25.000000   \n",
      "mean   2007.000000     27.680800       2.711304           34.947600   \n",
      "std       7.359801      2.842613       0.526535            5.068672   \n",
      "min    1995.000000     24.300000       2.060000           28.330000   \n",
      "25%    2001.000000     25.780000       2.250000           31.020000   \n",
      "50%    2007.000000     26.560000       2.600000           33.500000   \n",
      "75%    2013.000000     28.990000       3.120000           38.490000   \n",
      "max    2019.000000     33.820000       3.710000           44.500000   \n",
      "\n",
      "       PerFemEmployers  Agriculture   Industry   Services  Wage&Salaried  \\\n",
      "count        25.000000    25.000000  25.000000  25.000000      25.000000   \n",
      "mean          0.196400    70.272400  12.018800  17.710400      21.965200   \n",
      "std           0.179325     7.795071   3.171068   4.709609       4.512734   \n",
      "min           0.090000    59.030000   7.460000   7.560000      16.560000   \n",
      "25%           0.100000    64.730000   9.010000  13.550000      19.110000   \n",
      "50%           0.120000    67.520000  12.620000  19.870000      20.810000   \n",
      "75%           0.160000    77.440000  14.420000  20.860000      22.780000   \n",
      "max           0.660000    84.790000  16.780000  24.270000      32.610000   \n",
      "\n",
      "       ContrFamWorkers  OwnAccount  Vulnerable  \n",
      "count         25.00000   25.000000   25.000000  \n",
      "mean          55.87240   21.968800   77.840400  \n",
      "std           12.38072    8.237512    4.674583  \n",
      "min           27.99000   15.070000   66.730000  \n",
      "25%           52.41000   15.520000   77.110000  \n",
      "50%           61.29000   17.480000   79.090000  \n",
      "75%           64.07000   26.470000   80.790000  \n",
      "max           66.80000   38.740000   83.270000  \n",
      "\n",
      "Data cleaning completed.\n"
     ]
    }
   ],
   "source": [
    "print(\"--- Data Cleaning ---\")\n",
    "\n",
    "# Display basic information about the dataset\n",
    "print(\"\\nDataset information:\")\n",
    "print(df.info())\n",
    "\n",
    "# Check for missing values\n",
    "print(\"\\nMissing values:\")\n",
    "print(df.isnull().sum())\n",
    "\n",
<<<<<<< HEAD
    "# Replace '-' with NaN in the FertilityRate column\n",
    "df['FertilityRate'] = df['FertilityRate'].replace('-', pd.NA).astype(float)\n",
=======
    "# Replace '-' with NaN in the FertilityRate column and convert to float\n",
    "df['FertilityRate'] = pd.to_numeric(df['FertilityRate'].replace('-', pd.NA), errors='coerce')\n",
>>>>>>> 8e1abdffdd70ded78e95f787b15fa330c0ba8125
    "\n",
    "print(\"\\nAfter cleaning, here's the updated info:\")\n",
    "print(df.info())\n",
    "\n",
    "# Display summary statistics\n",
    "print(\"\\nSummary statistics:\")\n",
    "print(df.describe())\n",
    "\n",
    "print(\"\\nData cleaning completed.\")"
   ]
  },
  {
   "cell_type": "markdown",
   "metadata": {},
   "source": [
    "## 5. Exploratory Data Analysis (EDA)"
   ]
  },
  {
   "cell_type": "code",
<<<<<<< HEAD
   "execution_count": null,
   "metadata": {},
   "outputs": [],
   "source": []
=======
   "execution_count": 11,
   "metadata": {},
   "outputs": [
    {
     "name": "stdout",
     "output_type": "stream",
     "text": [
      "--- Exploratory Data Analysis ---\n"
     ]
    },
    {
     "ename": "OSError",
     "evalue": "'seaborn' is not a valid package style, path of style file, URL of style file, or library style name (library styles are listed in `style.available`)",
     "output_type": "error",
     "traceback": [
      "\u001b[1;31m---------------------------------------------------------------------------\u001b[0m",
      "\u001b[1;31mFileNotFoundError\u001b[0m                         Traceback (most recent call last)",
      "File \u001b[1;32m~\\anaconda4\\Lib\\site-packages\\matplotlib\\style\\core.py:137\u001b[0m, in \u001b[0;36muse\u001b[1;34m(style)\u001b[0m\n\u001b[0;32m    136\u001b[0m \u001b[38;5;28;01mtry\u001b[39;00m:\n\u001b[1;32m--> 137\u001b[0m     style \u001b[38;5;241m=\u001b[39m _rc_params_in_file(style)\n\u001b[0;32m    138\u001b[0m \u001b[38;5;28;01mexcept\u001b[39;00m \u001b[38;5;167;01mOSError\u001b[39;00m \u001b[38;5;28;01mas\u001b[39;00m err:\n",
      "File \u001b[1;32m~\\anaconda4\\Lib\\site-packages\\matplotlib\\__init__.py:870\u001b[0m, in \u001b[0;36m_rc_params_in_file\u001b[1;34m(fname, transform, fail_on_error)\u001b[0m\n\u001b[0;32m    869\u001b[0m rc_temp \u001b[38;5;241m=\u001b[39m {}\n\u001b[1;32m--> 870\u001b[0m \u001b[38;5;28;01mwith\u001b[39;00m _open_file_or_url(fname) \u001b[38;5;28;01mas\u001b[39;00m fd:\n\u001b[0;32m    871\u001b[0m     \u001b[38;5;28;01mtry\u001b[39;00m:\n",
      "File \u001b[1;32m~\\anaconda4\\Lib\\contextlib.py:137\u001b[0m, in \u001b[0;36m_GeneratorContextManager.__enter__\u001b[1;34m(self)\u001b[0m\n\u001b[0;32m    136\u001b[0m \u001b[38;5;28;01mtry\u001b[39;00m:\n\u001b[1;32m--> 137\u001b[0m     \u001b[38;5;28;01mreturn\u001b[39;00m \u001b[38;5;28mnext\u001b[39m(\u001b[38;5;28mself\u001b[39m\u001b[38;5;241m.\u001b[39mgen)\n\u001b[0;32m    138\u001b[0m \u001b[38;5;28;01mexcept\u001b[39;00m \u001b[38;5;167;01mStopIteration\u001b[39;00m:\n",
      "File \u001b[1;32m~\\anaconda4\\Lib\\site-packages\\matplotlib\\__init__.py:847\u001b[0m, in \u001b[0;36m_open_file_or_url\u001b[1;34m(fname)\u001b[0m\n\u001b[0;32m    846\u001b[0m fname \u001b[38;5;241m=\u001b[39m os\u001b[38;5;241m.\u001b[39mpath\u001b[38;5;241m.\u001b[39mexpanduser(fname)\n\u001b[1;32m--> 847\u001b[0m \u001b[38;5;28;01mwith\u001b[39;00m \u001b[38;5;28mopen\u001b[39m(fname, encoding\u001b[38;5;241m=\u001b[39m\u001b[38;5;124m'\u001b[39m\u001b[38;5;124mutf-8\u001b[39m\u001b[38;5;124m'\u001b[39m) \u001b[38;5;28;01mas\u001b[39;00m f:\n\u001b[0;32m    848\u001b[0m     \u001b[38;5;28;01myield\u001b[39;00m f\n",
      "\u001b[1;31mFileNotFoundError\u001b[0m: [Errno 2] No such file or directory: 'seaborn'",
      "\nThe above exception was the direct cause of the following exception:\n",
      "\u001b[1;31mOSError\u001b[0m                                   Traceback (most recent call last)",
      "Cell \u001b[1;32mIn[11], line 4\u001b[0m\n\u001b[0;32m      1\u001b[0m \u001b[38;5;28mprint\u001b[39m(\u001b[38;5;124m\"\u001b[39m\u001b[38;5;124m--- Exploratory Data Analysis ---\u001b[39m\u001b[38;5;124m\"\u001b[39m)\n\u001b[0;32m      3\u001b[0m \u001b[38;5;66;03m# Set style for better-looking plots\u001b[39;00m\n\u001b[1;32m----> 4\u001b[0m plt\u001b[38;5;241m.\u001b[39mstyle\u001b[38;5;241m.\u001b[39muse(\u001b[38;5;124m'\u001b[39m\u001b[38;5;124mseaborn\u001b[39m\u001b[38;5;124m'\u001b[39m)\n\u001b[0;32m      6\u001b[0m \u001b[38;5;66;03m# 5.1 Trend of female employment percentage over time\u001b[39;00m\n\u001b[0;32m      7\u001b[0m plt\u001b[38;5;241m.\u001b[39mfigure(figsize\u001b[38;5;241m=\u001b[39m(\u001b[38;5;241m12\u001b[39m, \u001b[38;5;241m6\u001b[39m))\n",
      "File \u001b[1;32m~\\anaconda4\\Lib\\site-packages\\matplotlib\\style\\core.py:139\u001b[0m, in \u001b[0;36muse\u001b[1;34m(style)\u001b[0m\n\u001b[0;32m    137\u001b[0m         style \u001b[38;5;241m=\u001b[39m _rc_params_in_file(style)\n\u001b[0;32m    138\u001b[0m     \u001b[38;5;28;01mexcept\u001b[39;00m \u001b[38;5;167;01mOSError\u001b[39;00m \u001b[38;5;28;01mas\u001b[39;00m err:\n\u001b[1;32m--> 139\u001b[0m         \u001b[38;5;28;01mraise\u001b[39;00m \u001b[38;5;167;01mOSError\u001b[39;00m(\n\u001b[0;32m    140\u001b[0m             \u001b[38;5;124mf\u001b[39m\u001b[38;5;124m\"\u001b[39m\u001b[38;5;132;01m{\u001b[39;00mstyle\u001b[38;5;132;01m!r}\u001b[39;00m\u001b[38;5;124m is not a valid package style, path of style \u001b[39m\u001b[38;5;124m\"\u001b[39m\n\u001b[0;32m    141\u001b[0m             \u001b[38;5;124mf\u001b[39m\u001b[38;5;124m\"\u001b[39m\u001b[38;5;124mfile, URL of style file, or library style name (library \u001b[39m\u001b[38;5;124m\"\u001b[39m\n\u001b[0;32m    142\u001b[0m             \u001b[38;5;124mf\u001b[39m\u001b[38;5;124m\"\u001b[39m\u001b[38;5;124mstyles are listed in `style.available`)\u001b[39m\u001b[38;5;124m\"\u001b[39m) \u001b[38;5;28;01mfrom\u001b[39;00m \u001b[38;5;21;01merr\u001b[39;00m\n\u001b[0;32m    143\u001b[0m filtered \u001b[38;5;241m=\u001b[39m {}\n\u001b[0;32m    144\u001b[0m \u001b[38;5;28;01mfor\u001b[39;00m k \u001b[38;5;129;01min\u001b[39;00m style:  \u001b[38;5;66;03m# don't trigger RcParams.__getitem__('backend')\u001b[39;00m\n",
      "\u001b[1;31mOSError\u001b[0m: 'seaborn' is not a valid package style, path of style file, URL of style file, or library style name (library styles are listed in `style.available`)"
     ]
    }
   ],
   "source": [
    "print(\"--- Exploratory Data Analysis ---\")\n",
    "\n",
    "# Set style for better-looking plots\n",
    "plt.style.use('seaborn')\n",
    "\n",
    "# 5.1 Trend of female employment percentage over time\n",
    "plt.figure(figsize=(12, 6))\n",
    "plt.plot(df['Year'], df['PerFemEmploy'], marker='o')\n",
    "plt.title('Percentage of Female Employment Over Time')\n",
    "plt.xlabel('Year')\n",
    "plt.ylabel('Percentage of Female Employment')\n",
    "plt.grid(True)\n",
    "plt.show()\n",
    "\n",
    "print(\"Figure 5.1: This graph shows the trend of female employment percentage over time. \"\n",
    "      \"We can observe an overall increasing trend, indicating that more women are entering the workforce.\")\n",
    "\n",
    "# 5.2 Comparison of male to female ratio in employment\n",
    "plt.figure(figsize=(12, 6))\n",
    "plt.plot(df['Year'], df['Ratio_MaletoFemale'], marker='o', color='orange')\n",
    "plt.title('Ratio of Male to Female Employment Over Time')\n",
    "plt.xlabel('Year')\n",
    "plt.ylabel('Ratio (Male to Female)')\n",
    "plt.grid(True)\n",
    "plt.show()\n",
    "\n",
    "print(\"Figure 5.2: This graph shows the ratio of male to female employment over time. \"\n",
    "      \"A decreasing trend indicates that the gap between male and female employment is narrowing.\")\n",
    "\n",
    "# 5.3 Correlation heatmap\n",
    "plt.figure(figsize=(12, 10))\n",
    "sns.heatmap(df.corr(), annot=True, cmap='coolwarm', linewidths=0.5)\n",
    "plt.title('Correlation Heatmap of Variables')\n",
    "plt.show()\n",
    "\n",
    "print(\"Figure 5.3: This heatmap shows the correlation between different variables. \"\n",
    "      \"Darker red indicates strong positive correlation, while darker blue indicates strong negative correlation.\")\n",
    "\n",
    "# 5.4 Distribution of female employment in different sectors\n",
    "sectors = ['Agriculture', 'Industry', 'Services']\n",
    "plt.figure(figsize=(12, 6))\n",
    "for sector in sectors:\n",
    "    plt.plot(df['Year'], df[sector], marker='o', label=sector)\n",
    "plt.title('Female Employment Distribution in Different Sectors')\n",
    "plt.xlabel('Year')\n",
    "plt.ylabel('Percentage')\n",
    "plt.legend()\n",
    "plt.grid(True)\n",
    "plt.show()\n",
    "\n",
    "print(\"Figure 5.4: This graph shows how female employment is distributed across different sectors over time. \"\n",
    "      \"We can observe shifts in employment patterns across sectors.\")\n",
    "\n",
    "# 5.5 Relationship between female employment and fertility rate\n",
    "plt.figure(figsize=(10, 6))\n",
    "plt.scatter(df['FertilityRate'], df['PerFemEmploy'])\n",
    "plt.title('Female Employment vs Fertility Rate')\n",
    "plt.xlabel('Fertility Rate')\n",
    "plt.ylabel('Percentage of Female Employment')\n",
    "plt.grid(True)\n",
    "plt.show()\n",
    "\n",
    "print(\"Figure 5.5: This scatter plot shows the relationship between female employment and fertility rate. \"\n",
    "      \"We can observe if there's any correlation between these two variables.\")\n",
    "\n",
    "# 5.6 Trends in employment types\n",
    "employment_types = ['Wage&Salaried', 'ContrFamWorkers', 'OwnAccount', 'Vulnerable']\n",
    "plt.figure(figsize=(12, 6))\n",
    "for emp_type in employment_types:\n",
    "    plt.plot(df['Year'], df[emp_type], marker='o', label=emp_type)\n",
    "plt.title('Trends in Different Types of Employment')\n",
    "plt.xlabel('Year')\n",
    "plt.ylabel('Percentage')\n",
    "plt.legend()\n",
    "plt.grid(True)\n",
    "plt.show()\n",
    "\n",
    "print(\"Figure 5.6: This graph shows trends in different types of employment over time. \"\n",
    "      \"We can observe how the distribution of employment types has changed.\")\n",
    "\n",
    "# 5.7 Box plot of female employment percentage\n",
    "plt.figure(figsize=(8, 6))\n",
    "sns.boxplot(y=df['PerFemEmploy'])\n",
    "plt.title('Distribution of Female Employment Percentage')\n",
    "plt.ylabel('Percentage of Female Employment')\n",
    "plt.show()\n",
    "\n",
    "print(\"Figure 5.7: This box plot shows the distribution of female employment percentage. \"\n",
    "      \"It gives us an idea of the median, quartiles, and any potential outliers in the data.\")\n",
    "\n",
    "# Print key findings\n",
    "print(\"\\nKey Findings:\")\n",
    "print(f\"1. The percentage of female employment increased from {df['PerFemEmploy'].iloc[0]:.2f}% in {df['Year'].iloc[0]} to {df['PerFemEmploy'].iloc[-1]:.2f}% in {df['Year'].iloc[-1]}.\")\n",
    "print(f\"2. The ratio of male to female employment decreased from {df['Ratio_MaletoFemale'].iloc[0]:.2f} in {df['Year'].iloc[0]} to {df['Ratio_MaletoFemale'].iloc[-1]:.2f} in {df['Year'].iloc[-1]}.\")\n",
    "print(f\"3. The sector with the highest female employment in {df['Year'].iloc[-1]} is {sectors[df[sectors].iloc[-1].argmax()]} at {df[sectors].iloc[-1].max():.2f}%.\")\n",
    "print(f\"4. The fertility rate decreased from {df['FertilityRate'].iloc[0]:.2f} in {df['Year'].iloc[0]} to {df['FertilityRate'].iloc[-2]:.2f} in {df['Year'].iloc[-2]}.\")\n",
    "\n",
    "print(\"\\nThis concludes our exploratory data analysis. The visualizations and findings provide insights into the trends of female employment in Bangladesh from 1995 to 2019.\")"
   ]
  },
  {
   "cell_type": "markdown",
   "metadata": {},
   "source": [
    "## Exploratory Data Analysis Insights: Women in the Workplace in Bangladesh (1995-2019)\n",
    "\n",
    "# 1. Overall Trend in Female Employment\n",
    "\n",
    "The percentage of female employment in Bangladesh has shown a consistent upward trend, increasing from 24.30% in 1995 to 33.82% in 2019.\n",
    "This represents a significant increase of about 39% over the 25-year period, indicating substantial progress in women's participation in the workforce.\n",
    "The growth rate appears to have accelerated in recent years, with a notable jump between 2016 and 2017.\n",
    "\n",
    "# 2. Male to Female Employment Ratio\n",
    "\n",
    "The ratio of male to female employment has decreased from 28.33 in 1995 to 44.50 in 2019.\n",
    "This decreasing trend suggests that the gender gap in employment is narrowing, although men still significantly outnumber women in the workforce.\n",
    "The rate of change in this ratio has been fairly consistent, indicating steady progress in gender equality in employment.\n",
    "\n",
    "# 3. Sectoral Distribution of Female Employment\n",
    "\n",
    "Agriculture has been the dominant sector for female employment throughout the period, but its share has been decreasing steadily (from 84.79% in 1995 to 59.03% in 2019).\n",
    "Both Industry and Services sectors have seen increases in female participation:\n",
    "\n",
    "Industry: from 7.66% in 1995 to 16.70% in 2019\n",
    "Services: from 7.56% in 1995 to 24.27% in 2019\n",
    "\n",
    "\n",
    "This shift suggests a gradual transition of the female workforce from agriculture to more diverse economic activities.\n",
    "\n",
    "# 4. Relationship with Fertility Rate\n",
    "\n",
    "There's a strong negative correlation between fertility rate and female employment percentage.\n",
    "As the fertility rate decreased from 3.71 in 1995 to 2.06 in 2017, female employment increased.\n",
    "This relationship suggests that lower fertility rates may be associated with increased opportunities for women in the workforce, or vice versa.\n",
    "\n",
    "# 5. Types of Employment\n",
    "\n",
    "The percentage of women in wage and salaried positions has increased from 18.03% in 1995 to 32.61% in 2019, indicating a rise in formal employment.\n",
    "There's been a significant decrease in contributing family workers, from 66.80% in 1995 to 27.99% in 2019.\n",
    "Own-account workers have increased from 15.07% to 38.74%, suggesting a rise in self-employment or entrepreneurship among women.\n",
    "The percentage of women in vulnerable employment has decreased from 81.87% to 66.73%, showing an improvement in job security and quality.\n",
    "\n",
    "# 6. Female Employers\n",
    "\n",
    "The percentage of female employers, while still low, has shown a significant increase from 0.10% in 1995 to 0.66% in 2019.\n",
    "This six-fold increase suggests a growing trend of women in leadership and entrepreneurial roles.\n",
    "\n",
    "# 7. Correlations\n",
    "\n",
    "Strong positive correlations exist between female employment percentage and variables like the ratio of male to female employment,\n",
    "percentage in industry and services sectors, and percentage in wage & salaried positions.\n",
    "Strong negative correlations are observed with fertility rate, percentage in agriculture, and percentage of contributing family workers.\n",
    "\n",
    "Conclusions\n",
    "The data reveals significant progress in women's participation in the Bangladeshi workforce from 1995 to 2019. \n",
    "Key improvements include increased overall female employment, diversification of employment sectors, reduction in \n",
    "vulnerable employment, and a rise in formal and self-employment. However, challenges remain, as women still \n",
    "constitute a minority in the workforce, particularly in leadership roles. The strong relationship between \n",
    "fertility rates and employment suggests that family planning and support for working mothers could be important\n",
    "factors in further improving women's workforce participation.\n",
    "Future research could focus on the drivers of these changes, the impact of specific policies or economic shifts, \n",
    "and comparisons with other countries in the region to provide context for Bangladesh's progress."
   ]
>>>>>>> 8e1abdffdd70ded78e95f787b15fa330c0ba8125
  },
  {
   "cell_type": "code",
   "execution_count": null,
   "metadata": {},
   "outputs": [],
   "source": []
  }
 ],
 "metadata": {
  "kernelspec": {
   "display_name": "Python 3 (ipykernel)",
   "language": "python",
   "name": "python3"
  },
  "language_info": {
   "codemirror_mode": {
    "name": "ipython",
    "version": 3
   },
   "file_extension": ".py",
   "mimetype": "text/x-python",
   "name": "python",
   "nbconvert_exporter": "python",
   "pygments_lexer": "ipython3",
   "version": "3.12.4"
  }
 },
 "nbformat": 4,
 "nbformat_minor": 4
}
