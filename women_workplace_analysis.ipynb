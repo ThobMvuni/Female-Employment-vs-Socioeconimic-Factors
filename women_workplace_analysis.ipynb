{
 "cells": [
  {
   "cell_type": "markdown",
   "metadata": {},
   "source": [
    "# Women in the Workplace: Data Analysis for Bangladesh (1995-2019)\n",
    "\n",
    "## Table of Contents\r\n",
    "1. **Project Overview**\r\n",
    "   - 1.1 **Introduction**\r\n",
    "     - 1.1.1 **Problem Statement**\r\n",
    "     - 1.1.2 **Objectives**\r\n",
    "2. **Importing Packages**\r\n",
    "3. **Loading Data**\r\n",
    "4. **Data Cleaning**\r\n",
    "5. **Exploratory Data Analysis (EDA)**\r\n"
   ]
  },
  {
   "cell_type": "markdown",
   "metadata": {},
   "source": [
    "## 1. Project Overview\r\n",
    "\r\n",
    "### 1.1 Introduction\r\n",
    "#### 1.1.1 Problem Statement:\r\n",
    "This project aims to analyze the trends in female employment and factors affecting it in Bangladesh from 1995 to 2019.\r\n",
    "\r\n",
    "#### 1.1.2 Objectives:\r\n",
    "- Preprocess and clean the provided dataset\r\n",
    "- Visualize trends in female employment\r\n",
    "- Compare female employment to male employment\r\n",
    "- Identify key factors influencing female employmentemployment"
   ]
  },
  {
   "cell_type": "markdown",
   "metadata": {},
   "source": [
    "## 2. Importing Packages"
   ]
  },
  {
   "cell_type": "code",
   "execution_count": 77,
   "metadata": {},
   "outputs": [
    {
     "name": "stdout",
     "output_type": "stream",
     "text": [
      "Packages imported successfully.\n"
     ]
    }
   ],
   "source": [
    "import pandas as pd\n",
    "import matplotlib.pyplot as plt\n",
    "import seaborn as sns\n",
    "import numpy as np\n",
    "\n",
    "print(\"Packages imported successfully.\")"
   ]
  },
  {
   "cell_type": "markdown",
   "metadata": {},
   "source": [
    "## 3. Loading Data"
   ]
  },
  {
   "cell_type": "code",
   "execution_count": 80,
   "metadata": {},
   "outputs": [
    {
     "name": "stdout",
     "output_type": "stream",
     "text": [
      "Data loaded successfully. Here are the first few rows:\n",
      "   Year  PerFemEmploy FertilityRate  Ratio_MaletoFemale  PerFemEmployers  \\\n",
      "0  1995         24.30          3.71               28.33              0.1   \n",
      "1  1996         24.57          3.59               28.72              0.1   \n",
      "2  1997         24.82          3.48               29.18              0.1   \n",
      "3  1998         25.11          3.37               29.67              0.1   \n",
      "4  1999         25.38          3.27               30.17              0.1   \n",
      "\n",
      "   Agriculture  Industry  Services  Wage&Salaried  ContrFamWorkers  \\\n",
      "0        84.79      7.66      7.56          18.03            66.80   \n",
      "1        82.28      7.46     10.27          18.38            66.39   \n",
      "2        81.19      7.57     11.24          18.74            65.95   \n",
      "3        80.28      7.77     11.95          19.11            65.53   \n",
      "4        79.52      8.12     12.36          19.50            65.01   \n",
      "\n",
      "   OwnAccount  Vulnerable  \n",
      "0       15.07       81.87  \n",
      "1       15.14       81.52  \n",
      "2       15.21       81.16  \n",
      "3       15.26       80.79  \n",
      "4       15.39       80.40  \n"
     ]
    }
   ],
   "source": [
    "# Load the CSV file into a pandas DataFrame\n",
    "df = pd.read_csv('MLR2.csv')\n",
    "\n",
    "print(\"Data loaded successfully. Here are the first few rows:\")\n",
    "print(df.head())"
   ]
  },
  {
   "cell_type": "markdown",
   "metadata": {},
   "source": [
    "## 4. Data Cleaning"
   ]
  },
  {
   "cell_type": "code",
   "execution_count": 94,
   "metadata": {},
   "outputs": [
    {
     "name": "stdout",
     "output_type": "stream",
     "text": [
      "--- Data Cleaning ---\n",
      "\n",
      "Dataset information:\n",
      "<class 'pandas.core.frame.DataFrame'>\n",
      "RangeIndex: 25 entries, 0 to 24\n",
      "Data columns (total 12 columns):\n",
      " #   Column              Non-Null Count  Dtype  \n",
      "---  ------              --------------  -----  \n",
      " 0   Year                25 non-null     int64  \n",
      " 1   PerFemEmploy        25 non-null     float64\n",
      " 2   FertilityRate       23 non-null     float64\n",
      " 3   Ratio_MaletoFemale  25 non-null     float64\n",
      " 4   PerFemEmployers     25 non-null     float64\n",
      " 5   Agriculture         25 non-null     float64\n",
      " 6   Industry            25 non-null     float64\n",
      " 7   Services            25 non-null     float64\n",
      " 8   Wage&Salaried       25 non-null     float64\n",
      " 9   ContrFamWorkers     25 non-null     float64\n",
      " 10  OwnAccount          25 non-null     float64\n",
      " 11  Vulnerable          25 non-null     float64\n",
      "dtypes: float64(11), int64(1)\n",
      "memory usage: 2.5 KB\n",
      "None\n",
      "\n",
      "Missing values:\n",
      "Year                  0\n",
      "PerFemEmploy          0\n",
      "FertilityRate         2\n",
      "Ratio_MaletoFemale    0\n",
      "PerFemEmployers       0\n",
      "Agriculture           0\n",
      "Industry              0\n",
      "Services              0\n",
      "Wage&Salaried         0\n",
      "ContrFamWorkers       0\n",
      "OwnAccount            0\n",
      "Vulnerable            0\n",
      "dtype: int64\n",
      "\n",
      "After cleaning, here's the updated info:\n",
      "<class 'pandas.core.frame.DataFrame'>\n",
      "RangeIndex: 25 entries, 0 to 24\n",
      "Data columns (total 12 columns):\n",
      " #   Column              Non-Null Count  Dtype  \n",
      "---  ------              --------------  -----  \n",
      " 0   Year                25 non-null     int64  \n",
      " 1   PerFemEmploy        25 non-null     float64\n",
      " 2   FertilityRate       23 non-null     float64\n",
      " 3   Ratio_MaletoFemale  25 non-null     float64\n",
      " 4   PerFemEmployers     25 non-null     float64\n",
      " 5   Agriculture         25 non-null     float64\n",
      " 6   Industry            25 non-null     float64\n",
      " 7   Services            25 non-null     float64\n",
      " 8   Wage&Salaried       25 non-null     float64\n",
      " 9   ContrFamWorkers     25 non-null     float64\n",
      " 10  OwnAccount          25 non-null     float64\n",
      " 11  Vulnerable          25 non-null     float64\n",
      "dtypes: float64(11), int64(1)\n",
      "memory usage: 2.5 KB\n",
      "None\n",
      "\n",
      "Summary statistics:\n",
      "              Year  PerFemEmploy  FertilityRate  Ratio_MaletoFemale  \\\n",
      "count    25.000000     25.000000      23.000000           25.000000   \n",
      "mean   2007.000000     27.680800       2.711304           34.947600   \n",
      "std       7.359801      2.842613       0.526535            5.068672   \n",
      "min    1995.000000     24.300000       2.060000           28.330000   \n",
      "25%    2001.000000     25.780000       2.250000           31.020000   \n",
      "50%    2007.000000     26.560000       2.600000           33.500000   \n",
      "75%    2013.000000     28.990000       3.120000           38.490000   \n",
      "max    2019.000000     33.820000       3.710000           44.500000   \n",
      "\n",
      "       PerFemEmployers  Agriculture   Industry   Services  Wage&Salaried  \\\n",
      "count        25.000000    25.000000  25.000000  25.000000      25.000000   \n",
      "mean          0.196400    70.272400  12.018800  17.710400      21.965200   \n",
      "std           0.179325     7.795071   3.171068   4.709609       4.512734   \n",
      "min           0.090000    59.030000   7.460000   7.560000      16.560000   \n",
      "25%           0.100000    64.730000   9.010000  13.550000      19.110000   \n",
      "50%           0.120000    67.520000  12.620000  19.870000      20.810000   \n",
      "75%           0.160000    77.440000  14.420000  20.860000      22.780000   \n",
      "max           0.660000    84.790000  16.780000  24.270000      32.610000   \n",
      "\n",
      "       ContrFamWorkers  OwnAccount  Vulnerable  \n",
      "count         25.00000   25.000000   25.000000  \n",
      "mean          55.87240   21.968800   77.840400  \n",
      "std           12.38072    8.237512    4.674583  \n",
      "min           27.99000   15.070000   66.730000  \n",
      "25%           52.41000   15.520000   77.110000  \n",
      "50%           61.29000   17.480000   79.090000  \n",
      "75%           64.07000   26.470000   80.790000  \n",
      "max           66.80000   38.740000   83.270000  \n",
      "\n",
      "Data cleaning completed.\n"
     ]
    }
   ],
   "source": [
    "print(\"--- Data Cleaning ---\")\n",
    "\n",
    "# Display basic information about the dataset\n",
    "print(\"\\nDataset information:\")\n",
    "print(df.info())\n",
    "\n",
    "# Check for missing values\n",
    "print(\"\\nMissing values:\")\n",
    "print(df.isnull().sum())\n",
    "\n",
    "# Replace '-' with NaN in the FertilityRate column\n",
    "df['FertilityRate'] = df['FertilityRate'].replace('-', pd.NA).astype(float)\n",
    "\n",
    "print(\"\\nAfter cleaning, here's the updated info:\")\n",
    "print(df.info())\n",
    "\n",
    "# Display summary statistics\n",
    "print(\"\\nSummary statistics:\")\n",
    "print(df.describe())\n",
    "\n",
    "print(\"\\nData cleaning completed.\")"
   ]
  },
  {
   "cell_type": "markdown",
   "metadata": {},
   "source": [
    "## 5. Exploratory Data Analysis (EDA)"
   ]
  },
  {
   "cell_type": "code",
   "execution_count": null,
   "metadata": {},
   "outputs": [],
   "source": []
  },
  {
   "cell_type": "code",
   "execution_count": null,
   "metadata": {},
   "outputs": [],
   "source": []
  }
 ],
 "metadata": {
  "kernelspec": {
   "display_name": "Python 3 (ipykernel)",
   "language": "python",
   "name": "python3"
  },
  "language_info": {
   "codemirror_mode": {
    "name": "ipython",
    "version": 3
   },
   "file_extension": ".py",
   "mimetype": "text/x-python",
   "name": "python",
   "nbconvert_exporter": "python",
   "pygments_lexer": "ipython3",
   "version": "3.12.4"
  }
 },
 "nbformat": 4,
 "nbformat_minor": 4
}
